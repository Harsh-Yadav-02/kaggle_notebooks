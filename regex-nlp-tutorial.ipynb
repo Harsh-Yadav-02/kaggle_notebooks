{
 "cells": [
  {
   "cell_type": "code",
   "execution_count": 1,
   "id": "5c0be7ff",
   "metadata": {
    "_cell_guid": "b1076dfc-b9ad-4769-8c92-a6c4dae69d19",
    "_uuid": "8f2839f25d086af736a60e9eeb907d3b93b6e0e5",
    "execution": {
     "iopub.execute_input": "2023-03-29T11:50:55.686388Z",
     "iopub.status.busy": "2023-03-29T11:50:55.685410Z",
     "iopub.status.idle": "2023-03-29T11:50:55.697322Z",
     "shell.execute_reply": "2023-03-29T11:50:55.695908Z"
    },
    "papermill": {
     "duration": 0.02257,
     "end_time": "2023-03-29T11:50:55.700205",
     "exception": false,
     "start_time": "2023-03-29T11:50:55.677635",
     "status": "completed"
    },
    "tags": []
   },
   "outputs": [],
   "source": [
    "import re"
   ]
  },
  {
   "cell_type": "code",
   "execution_count": 2,
   "id": "282eb814",
   "metadata": {
    "execution": {
     "iopub.execute_input": "2023-03-29T11:50:55.712158Z",
     "iopub.status.busy": "2023-03-29T11:50:55.710855Z",
     "iopub.status.idle": "2023-03-29T11:50:55.717122Z",
     "shell.execute_reply": "2023-03-29T11:50:55.715863Z"
    },
    "papermill": {
     "duration": 0.015304,
     "end_time": "2023-03-29T11:50:55.720081",
     "exception": false,
     "start_time": "2023-03-29T11:50:55.704777",
     "status": "completed"
    },
    "tags": []
   },
   "outputs": [],
   "source": [
    "chat1 =  '1234567891 this is a random phone number 1122334455'\n",
    "chat2 = '1234567891 this is a random phone number 1122334455, with one more number - (123)-456-7891'\n",
    "chat3 = 'a_b12@gmail.com'"
   ]
  },
  {
   "cell_type": "code",
   "execution_count": 3,
   "id": "200fa24c",
   "metadata": {
    "execution": {
     "iopub.execute_input": "2023-03-29T11:50:55.731307Z",
     "iopub.status.busy": "2023-03-29T11:50:55.730818Z",
     "iopub.status.idle": "2023-03-29T11:50:55.740359Z",
     "shell.execute_reply": "2023-03-29T11:50:55.739025Z"
    },
    "papermill": {
     "duration": 0.018584,
     "end_time": "2023-03-29T11:50:55.743188",
     "exception": false,
     "start_time": "2023-03-29T11:50:55.724604",
     "status": "completed"
    },
    "tags": []
   },
   "outputs": [
    {
     "data": {
      "text/plain": [
       "['1234567891', '1122334455']"
      ]
     },
     "execution_count": 3,
     "metadata": {},
     "output_type": "execute_result"
    }
   ],
   "source": [
    "pattern = '\\d{10}'\n",
    "matches = re.findall(pattern, chat1)\n",
    "matches"
   ]
  },
  {
   "cell_type": "code",
   "execution_count": 4,
   "id": "3e83620a",
   "metadata": {
    "execution": {
     "iopub.execute_input": "2023-03-29T11:50:55.754842Z",
     "iopub.status.busy": "2023-03-29T11:50:55.754325Z",
     "iopub.status.idle": "2023-03-29T11:50:55.763493Z",
     "shell.execute_reply": "2023-03-29T11:50:55.762258Z"
    },
    "papermill": {
     "duration": 0.018193,
     "end_time": "2023-03-29T11:50:55.766021",
     "exception": false,
     "start_time": "2023-03-29T11:50:55.747828",
     "status": "completed"
    },
    "tags": []
   },
   "outputs": [
    {
     "data": {
      "text/plain": [
       "['(123)-456-7891']"
      ]
     },
     "execution_count": 4,
     "metadata": {},
     "output_type": "execute_result"
    }
   ],
   "source": [
    "pattern = '\\(\\d{3}\\)-\\d{3}-\\d{4}'\n",
    "matches = re.findall(pattern, chat2)\n",
    "matches"
   ]
  },
  {
   "cell_type": "code",
   "execution_count": 5,
   "id": "5cfeb513",
   "metadata": {
    "execution": {
     "iopub.execute_input": "2023-03-29T11:50:55.778580Z",
     "iopub.status.busy": "2023-03-29T11:50:55.778088Z",
     "iopub.status.idle": "2023-03-29T11:50:55.787302Z",
     "shell.execute_reply": "2023-03-29T11:50:55.785946Z"
    },
    "papermill": {
     "duration": 0.019084,
     "end_time": "2023-03-29T11:50:55.789872",
     "exception": false,
     "start_time": "2023-03-29T11:50:55.770788",
     "status": "completed"
    },
    "tags": []
   },
   "outputs": [
    {
     "data": {
      "text/plain": [
       "['1234567891', '1122334455', '(123)-456-7891']"
      ]
     },
     "execution_count": 5,
     "metadata": {},
     "output_type": "execute_result"
    }
   ],
   "source": [
    "pattern = '\\d{10}|\\(\\d{3}\\)-\\d{3}-\\d{4}'\n",
    "matches = re.findall(pattern, chat2)\n",
    "matches"
   ]
  },
  {
   "cell_type": "code",
   "execution_count": 6,
   "id": "47554b16",
   "metadata": {
    "execution": {
     "iopub.execute_input": "2023-03-29T11:50:55.801835Z",
     "iopub.status.busy": "2023-03-29T11:50:55.801358Z",
     "iopub.status.idle": "2023-03-29T11:50:55.810848Z",
     "shell.execute_reply": "2023-03-29T11:50:55.809625Z"
    },
    "papermill": {
     "duration": 0.018804,
     "end_time": "2023-03-29T11:50:55.813425",
     "exception": false,
     "start_time": "2023-03-29T11:50:55.794621",
     "status": "completed"
    },
    "tags": []
   },
   "outputs": [
    {
     "data": {
      "text/plain": [
       "['a_b12@gmail.com']"
      ]
     },
     "execution_count": 6,
     "metadata": {},
     "output_type": "execute_result"
    }
   ],
   "source": [
    "pattern = '[a-zA-Z-0-9_]*@[a-zA-Z-0-9_]*\\.com'\n",
    "matches = re.findall(pattern, chat3)\n",
    "matches"
   ]
  },
  {
   "cell_type": "code",
   "execution_count": 7,
   "id": "f837bb26",
   "metadata": {
    "execution": {
     "iopub.execute_input": "2023-03-29T11:50:55.825628Z",
     "iopub.status.busy": "2023-03-29T11:50:55.825120Z",
     "iopub.status.idle": "2023-03-29T11:50:55.831062Z",
     "shell.execute_reply": "2023-03-29T11:50:55.829746Z"
    },
    "papermill": {
     "duration": 0.015557,
     "end_time": "2023-03-29T11:50:55.833852",
     "exception": false,
     "start_time": "2023-03-29T11:50:55.818295",
     "status": "completed"
    },
    "tags": []
   },
   "outputs": [],
   "source": [
    "chat4 = 'I am having issue with my order # 123456789'\n",
    "chat5 = 'I am having issue with my order number 123456789'\n",
    "chat6 = 'My order 123456789 have an issue'"
   ]
  },
  {
   "cell_type": "code",
   "execution_count": 8,
   "id": "b88463ea",
   "metadata": {
    "execution": {
     "iopub.execute_input": "2023-03-29T11:50:55.846068Z",
     "iopub.status.busy": "2023-03-29T11:50:55.845606Z",
     "iopub.status.idle": "2023-03-29T11:50:55.854663Z",
     "shell.execute_reply": "2023-03-29T11:50:55.853285Z"
    },
    "papermill": {
     "duration": 0.018801,
     "end_time": "2023-03-29T11:50:55.857538",
     "exception": false,
     "start_time": "2023-03-29T11:50:55.838737",
     "status": "completed"
    },
    "tags": []
   },
   "outputs": [
    {
     "data": {
      "text/plain": [
       "['order # 123456789']"
      ]
     },
     "execution_count": 8,
     "metadata": {},
     "output_type": "execute_result"
    }
   ],
   "source": [
    "pattern = 'order[a-zA-Z|\\#|\\s]*[0-9]*'\n",
    "matches = re.findall(pattern, chat4)\n",
    "matches"
   ]
  },
  {
   "cell_type": "code",
   "execution_count": 9,
   "id": "e7915874",
   "metadata": {
    "execution": {
     "iopub.execute_input": "2023-03-29T11:50:55.869714Z",
     "iopub.status.busy": "2023-03-29T11:50:55.869232Z",
     "iopub.status.idle": "2023-03-29T11:50:55.878530Z",
     "shell.execute_reply": "2023-03-29T11:50:55.877106Z"
    },
    "papermill": {
     "duration": 0.018543,
     "end_time": "2023-03-29T11:50:55.881090",
     "exception": false,
     "start_time": "2023-03-29T11:50:55.862547",
     "status": "completed"
    },
    "tags": []
   },
   "outputs": [
    {
     "data": {
      "text/plain": [
       "['123456789']"
      ]
     },
     "execution_count": 9,
     "metadata": {},
     "output_type": "execute_result"
    }
   ],
   "source": [
    "pattern = 'order[a-zA-Z|\\#|\\s]*([0-9]*)'#bracket ensures that we only get that part as output\n",
    "matches = re.findall(pattern, chat4)\n",
    "matches"
   ]
  },
  {
   "cell_type": "code",
   "execution_count": 10,
   "id": "2dfbe2c6",
   "metadata": {
    "execution": {
     "iopub.execute_input": "2023-03-29T11:50:55.893852Z",
     "iopub.status.busy": "2023-03-29T11:50:55.893371Z",
     "iopub.status.idle": "2023-03-29T11:50:55.901491Z",
     "shell.execute_reply": "2023-03-29T11:50:55.900298Z"
    },
    "papermill": {
     "duration": 0.017725,
     "end_time": "2023-03-29T11:50:55.903941",
     "exception": false,
     "start_time": "2023-03-29T11:50:55.886216",
     "status": "completed"
    },
    "tags": []
   },
   "outputs": [
    {
     "data": {
      "text/plain": [
       "['order number 123456789']"
      ]
     },
     "execution_count": 10,
     "metadata": {},
     "output_type": "execute_result"
    }
   ],
   "source": [
    "pattern = 'order[a-zA-Z|\\#|\\s]*[0-9]*'\n",
    "matches = re.findall(pattern, chat5)\n",
    "matches"
   ]
  },
  {
   "cell_type": "code",
   "execution_count": 11,
   "id": "aea97ac5",
   "metadata": {
    "execution": {
     "iopub.execute_input": "2023-03-29T11:50:55.917064Z",
     "iopub.status.busy": "2023-03-29T11:50:55.916543Z",
     "iopub.status.idle": "2023-03-29T11:50:55.925165Z",
     "shell.execute_reply": "2023-03-29T11:50:55.923814Z"
    },
    "papermill": {
     "duration": 0.018618,
     "end_time": "2023-03-29T11:50:55.927782",
     "exception": false,
     "start_time": "2023-03-29T11:50:55.909164",
     "status": "completed"
    },
    "tags": []
   },
   "outputs": [
    {
     "data": {
      "text/plain": [
       "['123456789']"
      ]
     },
     "execution_count": 11,
     "metadata": {},
     "output_type": "execute_result"
    }
   ],
   "source": [
    "pattern = 'order[a-zA-Z|\\#|\\s]*([0-9]*)'#bracket ensures that we only get that part as output\n",
    "matches = re.findall(pattern, chat5)\n",
    "matches"
   ]
  },
  {
   "cell_type": "code",
   "execution_count": 12,
   "id": "76c5cc94",
   "metadata": {
    "execution": {
     "iopub.execute_input": "2023-03-29T11:50:55.941848Z",
     "iopub.status.busy": "2023-03-29T11:50:55.941342Z",
     "iopub.status.idle": "2023-03-29T11:50:55.950253Z",
     "shell.execute_reply": "2023-03-29T11:50:55.948935Z"
    },
    "papermill": {
     "duration": 0.019531,
     "end_time": "2023-03-29T11:50:55.953156",
     "exception": false,
     "start_time": "2023-03-29T11:50:55.933625",
     "status": "completed"
    },
    "tags": []
   },
   "outputs": [
    {
     "data": {
      "text/plain": [
       "['123456789']"
      ]
     },
     "execution_count": 12,
     "metadata": {},
     "output_type": "execute_result"
    }
   ],
   "source": [
    "pattern = 'order[a-zA-Z|\\#|\\s]*([0-9]*)'#bracket ensures that we only get that part as output\n",
    "matches = re.findall(pattern, chat6)\n",
    "matches"
   ]
  },
  {
   "cell_type": "code",
   "execution_count": 13,
   "id": "7fb78a69",
   "metadata": {
    "execution": {
     "iopub.execute_input": "2023-03-29T11:50:55.968068Z",
     "iopub.status.busy": "2023-03-29T11:50:55.967624Z",
     "iopub.status.idle": "2023-03-29T11:50:55.974357Z",
     "shell.execute_reply": "2023-03-29T11:50:55.972889Z"
    },
    "papermill": {
     "duration": 0.018372,
     "end_time": "2023-03-29T11:50:55.977488",
     "exception": false,
     "start_time": "2023-03-29T11:50:55.959116",
     "status": "completed"
    },
    "tags": []
   },
   "outputs": [],
   "source": [
    "text ='''\n",
    "Musk in 2018\n",
    "Born\tElon Reeve Musk\n",
    "\n",
    "June 28, 1971 (age 51)\n",
    "Pretoria, Transvaal, South Africa\n",
    "Education\tUniversity of Pennsylvania (BA, BS)\n",
    "Title\t\n",
    "\n",
    "    Founder, CEO and chief engineer of SpaceX\n",
    "    CEO and product architect of Tesla, Inc.\n",
    "    CEO of Twitter, Inc.\n",
    "    President of the Musk Foundation\n",
    "    Founder of the Boring Company\n",
    "    Co-founder of Neuralink, OpenAI, Zip2 and X.com (now part of PayPal)\n",
    "\n",
    "Spouses\t\n",
    "\n",
    "    Justine Wilson\n",
    "    ​\n",
    "    ​\n",
    "    (m. 2000; div. 2008)​\n",
    "    Talulah Riley\n",
    "    ​\n",
    "    ​\n",
    "    (m. 2010; div. 2012)​\n",
    "    ​\n",
    "    ​\n",
    "    (m. 2013; div. 2016)​\n",
    "\n",
    "Partner\tGrimes (2018–2021)[1]\n",
    "Children\t10[a][3]\n",
    "Parents\t\n",
    "\n",
    "    Errol Musk (father)\n",
    "    Maye Musk (mother)\n",
    "\n",
    "Family\tMusk family\n",
    "Awards\tList of honors and awards\n",
    "Signature\n",
    "Elon Musk Signature.svg\n",
    "'''"
   ]
  },
  {
   "cell_type": "code",
   "execution_count": 14,
   "id": "e232cfb7",
   "metadata": {
    "execution": {
     "iopub.execute_input": "2023-03-29T11:50:55.991518Z",
     "iopub.status.busy": "2023-03-29T11:50:55.990680Z",
     "iopub.status.idle": "2023-03-29T11:50:55.999098Z",
     "shell.execute_reply": "2023-03-29T11:50:55.997845Z"
    },
    "papermill": {
     "duration": 0.018851,
     "end_time": "2023-03-29T11:50:56.002324",
     "exception": false,
     "start_time": "2023-03-29T11:50:55.983473",
     "status": "completed"
    },
    "tags": []
   },
   "outputs": [
    {
     "data": {
      "text/plain": [
       "'51'"
      ]
     },
     "execution_count": 14,
     "metadata": {},
     "output_type": "execute_result"
    }
   ],
   "source": [
    "pattern = '\\(age ([0-9]*)\\)'#bracket ensures that we only get that part as output\n",
    "matches = re.findall(pattern, text)\n",
    "matches[0].strip()"
   ]
  },
  {
   "cell_type": "code",
   "execution_count": null,
   "id": "7088aee5",
   "metadata": {
    "papermill": {
     "duration": 0.005814,
     "end_time": "2023-03-29T11:50:56.014303",
     "exception": false,
     "start_time": "2023-03-29T11:50:56.008489",
     "status": "completed"
    },
    "tags": []
   },
   "outputs": [],
   "source": []
  }
 ],
 "metadata": {
  "kernelspec": {
   "display_name": "Python 3",
   "language": "python",
   "name": "python3"
  },
  "language_info": {
   "codemirror_mode": {
    "name": "ipython",
    "version": 3
   },
   "file_extension": ".py",
   "mimetype": "text/x-python",
   "name": "python",
   "nbconvert_exporter": "python",
   "pygments_lexer": "ipython3",
   "version": "3.7.12"
  },
  "papermill": {
   "default_parameters": {},
   "duration": 12.662111,
   "end_time": "2023-03-29T11:50:56.843083",
   "environment_variables": {},
   "exception": null,
   "input_path": "__notebook__.ipynb",
   "output_path": "__notebook__.ipynb",
   "parameters": {},
   "start_time": "2023-03-29T11:50:44.180972",
   "version": "2.4.0"
  }
 },
 "nbformat": 4,
 "nbformat_minor": 5
}
